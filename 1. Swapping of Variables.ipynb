{
 "cells": [
  {
   "cell_type": "markdown",
   "metadata": {},
   "source": []
  },
  {
   "cell_type": "markdown",
   "metadata": {
    "collapsed": true
   },
   "source": [
    "# Exchanging variables"
   ]
  },
  {
   "cell_type": "code",
   "execution_count": 2,
   "metadata": {},
   "outputs": [
    {
     "name": "stdout",
     "output_type": "stream",
     "text": [
      "Original Values of a 10 and b 20 are\n",
      "New Values of a 20 and b 10 are\n"
     ]
    }
   ],
   "source": [
    "a = 10\n",
    "b = 20\n",
    "print(\"Original Values of a {} and b {} are\".format(a,b))\n",
    "a = a + b\n",
    "b = a - b\n",
    "a = a - b\n",
    "print(\"New Values of a {} and b {} are\".format(a,b))"
   ]
  },
  {
   "cell_type": "markdown",
   "metadata": {},
   "source": [
    "# This is okayish but there is a better way to do this in python"
   ]
  },
  {
   "cell_type": "code",
   "execution_count": 4,
   "metadata": {},
   "outputs": [
    {
     "name": "stdout",
     "output_type": "stream",
     "text": [
      "Original Values of a 10 and b 20 are\n",
      "New Values of a 20 and b 10 are\n"
     ]
    }
   ],
   "source": [
    "a = 10\n",
    "b = 20\n",
    "print(\"Original Values of a {} and b {} are\".format(a,b))\n",
    "a, b = b, a\n",
    "print(\"New Values of a {} and b {} are\".format(a,b))"
   ]
  },
  {
   "cell_type": "markdown",
   "metadata": {},
   "source": [
    "# Watttttttttttttttttt Just Happened\n",
    "Why have I spent my whole life doing it in 3 lines\n",
    "\n",
    "[Python Documentation on Evaluation Order](https://docs.python.org/3/reference/expressions.html#evaluation-order)\n",
    "\n",
    "[Stack Overflow Link](https://stackoverflow.com/questions/14836228/is-there-a-standardized-method-to-swap-two-variables-in-python)\n",
    "\n",
    "- The right-hand side `b,a` is evaluated, that is to say a tuple of two elements is created in the memory. \n",
    "- The two element are the objects designated by the identifiers `b` and `a`, that were existing before the instruction is encountered during an execution of program\n",
    "- Just after the creation of this tuple, no assignment of this tuple object have still been made, but it doesn't matter, Python internally knows where it is. \n",
    "- Then, the left-hand side is evaluated, that is to say the tuple is assigned to the left-hand side\n",
    "- As the left-hand side is composed of two `identifiers`, the tuple is `unpacked` \n",
    "- In order that the first identifier `a` be assigned to the first element of the tuple (which is the object that was formerly `b` before the swap because it had name `b`)\n",
    "- And the second identifier b is assigned to the second element of the tuple (which is the object that was formerly `a` before the swap because its identifiers was` a`)\n",
    "\n",
    "## This mechanism has effectively swapped the objects assigned to the identifiers a and b"
   ]
  },
  {
   "cell_type": "code",
   "execution_count": null,
   "metadata": {},
   "outputs": [],
   "source": []
  }
 ],
 "metadata": {
  "kernelspec": {
   "display_name": "Python 3",
   "language": "python",
   "name": "python3"
  },
  "language_info": {
   "codemirror_mode": {
    "name": "ipython",
    "version": 3
   },
   "file_extension": ".py",
   "mimetype": "text/x-python",
   "name": "python",
   "nbconvert_exporter": "python",
   "pygments_lexer": "ipython3",
   "version": "3.6.4"
  }
 },
 "nbformat": 4,
 "nbformat_minor": 1
}
