{
 "cells": [
  {
   "cell_type": "markdown",
   "metadata": {},
   "source": []
  },
  {
   "cell_type": "markdown",
   "metadata": {
    "collapsed": true
   },
   "source": [
    "- Assignment does not create new copy of list\n",
    "- Instead use slicing operation"
   ]
  },
  {
   "cell_type": "markdown",
   "metadata": {},
   "source": [
    "- Empty list is false\n",
    "- Everythin else is true"
   ]
  },
  {
   "cell_type": "code",
   "execution_count": null,
   "metadata": {},
   "outputs": [
    {
     "name": "stdout",
     "output_type": "stream",
     "text": [
      "True\n"
     ]
    }
   ],
   "source": [
    "x = []\n",
    "if x:\n",
    "    print(\"True\")\n",
    "if not x:\n",
    "    print(\"False\")"
   ]
  },
  {
   "cell_type": "markdown",
   "metadata": {},
   "source": [
    "During Function Call\n",
    "- If mutable parameter then it is mutated example list\n",
    "- If non mutable then a local copy is created \n",
    "- If want to use global variable, use keyword global"
   ]
  },
  {
   "cell_type": "markdown",
   "metadata": {},
   "source": [
    "All function definitions should be above the statements\n",
    "If a function is called by statement before defining, it will cause an error \n",
    "\n",
    "##### NameError: name 'y' is not defined"
   ]
  },
  {
   "cell_type": "code",
   "execution_count": 4,
   "metadata": {},
   "outputs": [
    {
     "name": "stdout",
     "output_type": "stream",
     "text": [
      "Hello World\n"
     ]
    }
   ],
   "source": [
    "def x():\n",
    "    y()\n",
    "x()\n",
    "\n",
    "def y():\n",
    "    print(\"Hello World\")"
   ]
  },
  {
   "cell_type": "markdown",
   "metadata": {},
   "source": [
    "# range()\n",
    "range() returns a generator-like object that only prints the output on demand.\n",
    "cant be used for assignment"
   ]
  },
  {
   "cell_type": "markdown",
   "metadata": {},
   "source": [
    "# list member functions\n",
    "\n",
    "1. list.append()\n",
    "    - Inserts an element at end of list\n",
    "2. list.insert(pos,elt)\n",
    "    - Inserts an element at given position\n",
    "3. list.extend([])\n",
    "    - Inserts elements of [] in given list\n",
    "    - list.extend(x)\n",
    "    - equal to list = list + x\n",
    "4. list.remove(elt)\n",
    "    - Removes first occurence of given element\n",
    "    - Reports error if element not found\n",
    "    - Hence use with `if x in list: list.remove(x)`\n",
    "5. list.index(elt)\n",
    "    - Returns index of first occurence of elt\n",
    "6. list.reverse()\n",
    "7. list.sort()\n",
    "    - sort in ascending order"
   ]
  },
  {
   "cell_type": "markdown",
   "metadata": {},
   "source": [
    "# assigning values by slicing"
   ]
  },
  {
   "cell_type": "code",
   "execution_count": 6,
   "metadata": {},
   "outputs": [
    {
     "name": "stdout",
     "output_type": "stream",
     "text": [
      "[1, 2, 3, 4, 5, 6, 7, 8, 9, 10]\n",
      "[0, 6, 7, 8, 9, 10]\n"
     ]
    }
   ],
   "source": [
    "x = [1,2,3,4,5,6,7,8,9,10]\n",
    "print(x)\n",
    "x[0:5] = [0]\n",
    "print(x)\n"
   ]
  },
  {
   "cell_type": "code",
   "execution_count": null,
   "metadata": {},
   "outputs": [],
   "source": []
  }
 ],
 "metadata": {
  "kernelspec": {
   "display_name": "Python 3",
   "language": "python",
   "name": "python3"
  },
  "language_info": {
   "codemirror_mode": {
    "name": "ipython",
    "version": 3
   },
   "file_extension": ".py",
   "mimetype": "text/x-python",
   "name": "python",
   "nbconvert_exporter": "python",
   "pygments_lexer": "ipython3",
   "version": "3.6.4"
  }
 },
 "nbformat": 4,
 "nbformat_minor": 1
}
