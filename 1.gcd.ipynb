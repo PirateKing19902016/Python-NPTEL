{
 "cells": [
  {
   "cell_type": "markdown",
   "metadata": {},
   "source": [
    "# GCD(m,n)\n",
    "1. This function takes two variables\n",
    "2. Creates a list of their divisors\n",
    "3. Creates a list of common divisors and returns the last element of the list"
   ]
  },
  {
   "cell_type": "code",
   "execution_count": 11,
   "metadata": {},
   "outputs": [
    {
     "name": "stdout",
     "output_type": "stream",
     "text": [
      "GCD of 10 and 20 is 10\n"
     ]
    }
   ],
   "source": [
    "def gcd(m, n):\n",
    "    fm = []\n",
    "    for i in range(1, m + 1):\n",
    "        if (m % i) == 0:\n",
    "            fm.append(i)\n",
    "    fn =  []\n",
    "    for j in range(1, n + 1):\n",
    "        if (n % j) == 0:\n",
    "            fn.append(j)\n",
    "    cf =  []\n",
    "    for f in fm:\n",
    "        if f in fn:\n",
    "            cf.append(f)\n",
    "    return cf[-1]\n",
    "\n",
    "print(\"GCD of 10 and 20 is\",gcd(10,20))"
   ]
  },
  {
   "cell_type": "markdown",
   "metadata": {},
   "source": [
    "# Improvement of the function\n",
    "\n",
    "1. max() to find the maximum number of the two lists\n",
    "2. find common factors in one go, for the min(m,n)\n",
    "3. Execute the range in reverse order, as it will generate the GCD earlier"
   ]
  },
  {
   "cell_type": "code",
   "execution_count": 12,
   "metadata": {},
   "outputs": [
    {
     "name": "stdout",
     "output_type": "stream",
     "text": [
      "GCD of 10 and 20 is 10\n"
     ]
    }
   ],
   "source": [
    "def gcd(m, n):\n",
    "    for i in range(min(m,n) + 1, 1, -1):\n",
    "        if m % i == 0  and n % i == 0 :\n",
    "            return i\n",
    "    else:\n",
    "        return 1\n",
    "print(\"GCD of 10 and 20 is\",gcd(10,20))    "
   ]
  },
  {
   "cell_type": "markdown",
   "metadata": {},
   "source": [
    "# Limitation\n",
    "We have to work with very large numbers\n",
    "Try reducing their size\n",
    "\n",
    "# Intermediate Euclid Algorithm\n",
    "1. If smaller number is a factor of larger number then it is the gcd\n",
    "2. Else Find The difference of given two numbers\n",
    "3. Repeat with the smaller number and their difference"
   ]
  },
  {
   "cell_type": "code",
   "execution_count": 13,
   "metadata": {},
   "outputs": [
    {
     "name": "stdout",
     "output_type": "stream",
     "text": [
      "GCD of 10 and 20 is 10\n"
     ]
    }
   ],
   "source": [
    "# Intermediate Euclid's algorithm\n",
    "\n",
    "\n",
    "def gcd(m, n):\n",
    "    if m < n:\n",
    "        m, n = n, m\n",
    "    if m % n == 0:\n",
    "        return n\n",
    "    else:\n",
    "        diff = m - n\n",
    "        return gcd(n, diff)\n",
    "\n",
    "\n",
    "print(\"GCD of 10 and 20 is\",gcd(10, 20))"
   ]
  },
  {
   "cell_type": "markdown",
   "metadata": {},
   "source": [
    "# Limitation\n",
    "worst case is 100,1\n",
    "Instead Try with remainder of division process\n",
    "\n",
    "# Euclid Algorithm\n",
    "1. If smaller number is a factor of larger number then it is the gcd\n",
    "2. Else find the remainder\n",
    "3. Repeat for smaller number and the remainder"
   ]
  },
  {
   "cell_type": "code",
   "execution_count": 14,
   "metadata": {},
   "outputs": [
    {
     "name": "stdout",
     "output_type": "stream",
     "text": [
      "GCD of 10 and 20 is 10\n"
     ]
    }
   ],
   "source": [
    "# Euclid's algorithm\n",
    "\n",
    "\n",
    "def gcd(m, n):\n",
    "    if m < n:\n",
    "        m, n = n, m\n",
    "    if m % n == 0:\n",
    "        return n\n",
    "    else:\n",
    "        return gcd(n, m % n)\n",
    "\n",
    "\n",
    "print(\"GCD of 10 and 20 is\",gcd(10, 20))"
   ]
  },
  {
   "cell_type": "code",
   "execution_count": null,
   "metadata": {},
   "outputs": [],
   "source": []
  }
 ],
 "metadata": {
  "kernelspec": {
   "display_name": "Python 3",
   "language": "python",
   "name": "python3"
  },
  "language_info": {
   "codemirror_mode": {
    "name": "ipython",
    "version": 3
   },
   "file_extension": ".py",
   "mimetype": "text/x-python",
   "name": "python",
   "nbconvert_exporter": "python",
   "pygments_lexer": "ipython3",
   "version": "3.6.4"
  }
 },
 "nbformat": 4,
 "nbformat_minor": 1
}
