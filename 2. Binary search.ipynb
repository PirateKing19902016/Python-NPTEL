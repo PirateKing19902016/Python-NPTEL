{
 "cells": [
  {
   "attachments": {},
   "cell_type": "markdown",
   "metadata": {},
   "source": [
    "# Binary Search!\n",
    "\n",
    "## Time Complexity O(log n)\n",
    "\n",
    "## Algorithm\n",
    "\n",
    "1. Sort the array\n",
    "2. If left - right equals zero then element not present\n",
    "3. Compare element with Middle Value\n",
    "    1. If Equals to Then return index\n",
    "    2. If Lesser than Recall for left and mid\n",
    "    3. If Greater Then Recall for mid+1 and right\n",
    "\n",
    "![binary-search1.png](res/binary-search.png)\n",
    "[Image Source](http://www.nyckidd.com/bob/Linear%20Search%20and%20Binary%20Search_WorkingCopy.pdf)"
   ]
  },
  {
   "cell_type": "code",
   "execution_count": 5,
   "metadata": {},
   "outputs": [
    {
     "name": "stdout",
     "output_type": "stream",
     "text": [
      "Element Found at 3\n"
     ]
    }
   ],
   "source": [
    "def binarySearch(sortedList,value,left,right): \n",
    "    if left - right == 0: \n",
    "        return False\n",
    "    mid = (left + right) // 2\n",
    "    \n",
    "    if value == sortedList[mid]: \n",
    "        return mid \n",
    "    if value < sortedList[mid]: \n",
    "        return binarySearch(sortedList, value, left, mid) \n",
    "    else: \n",
    "        return binarySearch(sortedList, value, mid+1, right)\n",
    "\n",
    "elt = binarySearch([1,2,3,4,5,6,7,8,9,10], 4, 0, 9)\n",
    "if elt:\n",
    "    print(\"Element Found at {}\".format(elt))\n",
    "else :\n",
    "    print(\"Element Not Found\")"
   ]
  },
  {
   "cell_type": "code",
   "execution_count": null,
   "metadata": {},
   "outputs": [],
   "source": []
  }
 ],
 "metadata": {
  "kernelspec": {
   "display_name": "Python 3",
   "language": "python",
   "name": "python3"
  },
  "language_info": {
   "codemirror_mode": {
    "name": "ipython",
    "version": 3
   },
   "file_extension": ".py",
   "mimetype": "text/x-python",
   "name": "python",
   "nbconvert_exporter": "python",
   "pygments_lexer": "ipython3",
   "version": "3.6.4"
  }
 },
 "nbformat": 4,
 "nbformat_minor": 2
}
